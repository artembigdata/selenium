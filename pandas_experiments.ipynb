{
 "cells": [
  {
   "cell_type": "markdown",
   "source": [
    "https://www.youtube.com/watch?v=-sJxwvx0P20 - ссылка на урок"
   ],
   "metadata": {
    "collapsed": false
   }
  },
  {
   "cell_type": "code",
   "execution_count": 1,
   "outputs": [],
   "source": [
    "import pandas"
   ],
   "metadata": {
    "collapsed": false
   }
  },
  {
   "cell_type": "code",
   "execution_count": 8,
   "outputs": [],
   "source": [
    "import pandas as pd\n",
    "import openpyxl"
   ],
   "metadata": {
    "collapsed": false
   }
  },
  {
   "cell_type": "code",
   "execution_count": 13,
   "outputs": [],
   "source": [
    "df = pd.read_excel('/Users/artemislamowicloud.com/Documents/Jupiter_Notebook/selenium/александр малинников техника.xlsx')"
   ],
   "metadata": {
    "collapsed": false
   }
  },
  {
   "cell_type": "code",
   "execution_count": 14,
   "outputs": [
    {
     "data": {
      "text/plain": "pandas.core.frame.DataFrame"
     },
     "execution_count": 14,
     "metadata": {},
     "output_type": "execute_result"
    }
   ],
   "source": [
    "type(df)"
   ],
   "metadata": {
    "collapsed": false
   }
  },
  {
   "cell_type": "markdown",
   "source": [
    "прочитал и показал DataFrame"
   ],
   "metadata": {
    "collapsed": false
   }
  },
  {
   "cell_type": "code",
   "execution_count": 15,
   "outputs": [
    {
     "data": {
      "text/plain": "    Unnamed: 0 Unnamed: 1                        Unnamed: 2 Unnamed: 3  \\\n0          NaN          №                      наименования      ко-во   \n1          NaN          1                         овцы ярки        450   \n2          NaN          2                       овцы бараны         50   \n3          NaN          3                     доставка овец          1   \n4          NaN          4          кошара(емкость 600 голв)          2   \n5          NaN          5         комбикормовый цех(здание)          1   \n6          NaN          6                 бытовое помещение          1   \n7          NaN          7                        ограждение          1   \n8          NaN          8               плющилка(комбикорм)          1   \n9          NaN          9              смеситель(комбикорм)          1   \n10         NaN         10                дозатор(комбикорм)          1   \n11         NaN         11           смеситель(для монокорм)          1   \n12         NaN         12                         Экструдер          1   \n13         NaN         13  пресс-подборщик(рулонник) ПР-150          1   \n14         NaN         14                       трактор МТЗ          1   \n15         NaN         15                    кормораздатчик          1   \n16         NaN         16                  борона пружинная          1   \n17         NaN         17            вилы (для трактор МТЗ)          1   \n18         NaN         18    погрузчик «Универсал Standart»          1   \n19         NaN         18                   сеялка зерновая          1   \n20         NaN         19                 Manitoo_погрузчик          0   \n21         NaN       Итог                               NaN        NaN   \n\n   Unnamed: 4  Unnamed: 5    Unnamed: 6                          Unnamed: 7  \\\n0    цена,руб  сумма,руб:     категория                            описание   \n1       12000     5400000      животные                                 NaN   \n2       27000     1350000      животные                                 NaN   \n3      100000      100000      животные                                 NaN   \n4      600000     1200000        здания                                 NaN   \n5      300000      300000        здания                                 NaN   \n6      300000      300000        здания                                 NaN   \n7         NaN           0        здания                                 NaN   \n8         NaN           0  оборудование           0,5 кг/голова_2,5 т/сутки   \n9         NaN           0  оборудование           0,5 кг/голова_2,5 т/сутки   \n10        NaN           0  оборудование           0,5 кг/голова_2,5 т/сутки   \n11        NaN           0  оборудование              3 кг/голова_15 т/сутки   \n12        NaN           0  оборудование           0,5 кг/голова_2,5 т/сутки   \n13     660000      660000       техника                  ПР-150 Новосибирск   \n14    2642000     2642000       техника       МТЗ 82.1 с усиленными мостами   \n15     819000      819000       техника  кормораздатчик тракторный КТ-10-01   \n16    3050000     3050000       техника           БЗГТ-21 «ПОБЕДА» Зуб 14мм   \n17      75000       75000       техника  универсальные с регулируемой пикой   \n18     290000      290000       техника   (БРС) г/п 1200 кг (Большая Земля)   \n19    6515400     6515400       техника                            СПС-6500   \n20    9600000           0       техника                                 NaN   \n21        NaN    22701400           NaN                                 NaN   \n\n         Unnamed: 8  Unnamed: 9         Unnamed: 10      доступно      расход  \\\n0         Поставщик         NaN       ∑ гранта(60%)  2.973200e+07  13620840.0   \n1               NaN         NaN  ∑ собственные(40%)  1.982133e+07   9080560.0   \n2               NaN         NaN       ∑ общая(100%)  4.955333e+07  22701400.0   \n3               NaN         NaN                 NaN           NaN         NaN   \n4               NaN         NaN                 NaN           NaN         NaN   \n5               NaN         NaN                 NaN           NaN         NaN   \n6               NaN         NaN                 NaN           NaN         NaN   \n7               NaN         NaN                 NaN           NaN         NaN   \n8               NaN         NaN                 NaN           NaN         NaN   \n9               NaN         NaN                 NaN           NaN         NaN   \n10              NaN         NaN                 NaN           NaN         NaN   \n11              NaN         NaN                 NaN           NaN         NaN   \n12              NaN         NaN                 NaN           NaN         NaN   \n13  АгроТехКомплект         NaN                 NaN           NaN         NaN   \n14      Техника АПК         NaN                 NaN           NaN         NaN   \n15  АгроТехКомплект         NaN                 NaN           NaN         NaN   \n16      Техника АПК         NaN                 NaN           NaN         NaN   \n17      Техника АПК         NaN                 NaN           NaN         NaN   \n18      Техника АПК         NaN                 NaN           NaN         NaN   \n19      Техника АПК         NaN                 NaN           NaN         NaN   \n20              NaN         NaN                 NaN           NaN         NaN   \n21              NaN         NaN                 NaN           NaN         NaN   \n\n         остаток  \n0   1.611116e+07  \n1   1.074077e+07  \n2   2.685193e+07  \n3            NaN  \n4            NaN  \n5            NaN  \n6            NaN  \n7            NaN  \n8            NaN  \n9            NaN  \n10           NaN  \n11           NaN  \n12           NaN  \n13           NaN  \n14           NaN  \n15           NaN  \n16           NaN  \n17           NaN  \n18           NaN  \n19           NaN  \n20           NaN  \n21           NaN  ",
      "text/html": "<div>\n<style scoped>\n    .dataframe tbody tr th:only-of-type {\n        vertical-align: middle;\n    }\n\n    .dataframe tbody tr th {\n        vertical-align: top;\n    }\n\n    .dataframe thead th {\n        text-align: right;\n    }\n</style>\n<table border=\"1\" class=\"dataframe\">\n  <thead>\n    <tr style=\"text-align: right;\">\n      <th></th>\n      <th>Unnamed: 0</th>\n      <th>Unnamed: 1</th>\n      <th>Unnamed: 2</th>\n      <th>Unnamed: 3</th>\n      <th>Unnamed: 4</th>\n      <th>Unnamed: 5</th>\n      <th>Unnamed: 6</th>\n      <th>Unnamed: 7</th>\n      <th>Unnamed: 8</th>\n      <th>Unnamed: 9</th>\n      <th>Unnamed: 10</th>\n      <th>доступно</th>\n      <th>расход</th>\n      <th>остаток</th>\n    </tr>\n  </thead>\n  <tbody>\n    <tr>\n      <th>0</th>\n      <td>NaN</td>\n      <td>№</td>\n      <td>наименования</td>\n      <td>ко-во</td>\n      <td>цена,руб</td>\n      <td>сумма,руб:</td>\n      <td>категория</td>\n      <td>описание</td>\n      <td>Поставщик</td>\n      <td>NaN</td>\n      <td>∑ гранта(60%)</td>\n      <td>2.973200e+07</td>\n      <td>13620840.0</td>\n      <td>1.611116e+07</td>\n    </tr>\n    <tr>\n      <th>1</th>\n      <td>NaN</td>\n      <td>1</td>\n      <td>овцы ярки</td>\n      <td>450</td>\n      <td>12000</td>\n      <td>5400000</td>\n      <td>животные</td>\n      <td>NaN</td>\n      <td>NaN</td>\n      <td>NaN</td>\n      <td>∑ собственные(40%)</td>\n      <td>1.982133e+07</td>\n      <td>9080560.0</td>\n      <td>1.074077e+07</td>\n    </tr>\n    <tr>\n      <th>2</th>\n      <td>NaN</td>\n      <td>2</td>\n      <td>овцы бараны</td>\n      <td>50</td>\n      <td>27000</td>\n      <td>1350000</td>\n      <td>животные</td>\n      <td>NaN</td>\n      <td>NaN</td>\n      <td>NaN</td>\n      <td>∑ общая(100%)</td>\n      <td>4.955333e+07</td>\n      <td>22701400.0</td>\n      <td>2.685193e+07</td>\n    </tr>\n    <tr>\n      <th>3</th>\n      <td>NaN</td>\n      <td>3</td>\n      <td>доставка овец</td>\n      <td>1</td>\n      <td>100000</td>\n      <td>100000</td>\n      <td>животные</td>\n      <td>NaN</td>\n      <td>NaN</td>\n      <td>NaN</td>\n      <td>NaN</td>\n      <td>NaN</td>\n      <td>NaN</td>\n      <td>NaN</td>\n    </tr>\n    <tr>\n      <th>4</th>\n      <td>NaN</td>\n      <td>4</td>\n      <td>кошара(емкость 600 голв)</td>\n      <td>2</td>\n      <td>600000</td>\n      <td>1200000</td>\n      <td>здания</td>\n      <td>NaN</td>\n      <td>NaN</td>\n      <td>NaN</td>\n      <td>NaN</td>\n      <td>NaN</td>\n      <td>NaN</td>\n      <td>NaN</td>\n    </tr>\n    <tr>\n      <th>5</th>\n      <td>NaN</td>\n      <td>5</td>\n      <td>комбикормовый цех(здание)</td>\n      <td>1</td>\n      <td>300000</td>\n      <td>300000</td>\n      <td>здания</td>\n      <td>NaN</td>\n      <td>NaN</td>\n      <td>NaN</td>\n      <td>NaN</td>\n      <td>NaN</td>\n      <td>NaN</td>\n      <td>NaN</td>\n    </tr>\n    <tr>\n      <th>6</th>\n      <td>NaN</td>\n      <td>6</td>\n      <td>бытовое помещение</td>\n      <td>1</td>\n      <td>300000</td>\n      <td>300000</td>\n      <td>здания</td>\n      <td>NaN</td>\n      <td>NaN</td>\n      <td>NaN</td>\n      <td>NaN</td>\n      <td>NaN</td>\n      <td>NaN</td>\n      <td>NaN</td>\n    </tr>\n    <tr>\n      <th>7</th>\n      <td>NaN</td>\n      <td>7</td>\n      <td>ограждение</td>\n      <td>1</td>\n      <td>NaN</td>\n      <td>0</td>\n      <td>здания</td>\n      <td>NaN</td>\n      <td>NaN</td>\n      <td>NaN</td>\n      <td>NaN</td>\n      <td>NaN</td>\n      <td>NaN</td>\n      <td>NaN</td>\n    </tr>\n    <tr>\n      <th>8</th>\n      <td>NaN</td>\n      <td>8</td>\n      <td>плющилка(комбикорм)</td>\n      <td>1</td>\n      <td>NaN</td>\n      <td>0</td>\n      <td>оборудование</td>\n      <td>0,5 кг/голова_2,5 т/сутки</td>\n      <td>NaN</td>\n      <td>NaN</td>\n      <td>NaN</td>\n      <td>NaN</td>\n      <td>NaN</td>\n      <td>NaN</td>\n    </tr>\n    <tr>\n      <th>9</th>\n      <td>NaN</td>\n      <td>9</td>\n      <td>смеситель(комбикорм)</td>\n      <td>1</td>\n      <td>NaN</td>\n      <td>0</td>\n      <td>оборудование</td>\n      <td>0,5 кг/голова_2,5 т/сутки</td>\n      <td>NaN</td>\n      <td>NaN</td>\n      <td>NaN</td>\n      <td>NaN</td>\n      <td>NaN</td>\n      <td>NaN</td>\n    </tr>\n    <tr>\n      <th>10</th>\n      <td>NaN</td>\n      <td>10</td>\n      <td>дозатор(комбикорм)</td>\n      <td>1</td>\n      <td>NaN</td>\n      <td>0</td>\n      <td>оборудование</td>\n      <td>0,5 кг/голова_2,5 т/сутки</td>\n      <td>NaN</td>\n      <td>NaN</td>\n      <td>NaN</td>\n      <td>NaN</td>\n      <td>NaN</td>\n      <td>NaN</td>\n    </tr>\n    <tr>\n      <th>11</th>\n      <td>NaN</td>\n      <td>11</td>\n      <td>смеситель(для монокорм)</td>\n      <td>1</td>\n      <td>NaN</td>\n      <td>0</td>\n      <td>оборудование</td>\n      <td>3 кг/голова_15 т/сутки</td>\n      <td>NaN</td>\n      <td>NaN</td>\n      <td>NaN</td>\n      <td>NaN</td>\n      <td>NaN</td>\n      <td>NaN</td>\n    </tr>\n    <tr>\n      <th>12</th>\n      <td>NaN</td>\n      <td>12</td>\n      <td>Экструдер</td>\n      <td>1</td>\n      <td>NaN</td>\n      <td>0</td>\n      <td>оборудование</td>\n      <td>0,5 кг/голова_2,5 т/сутки</td>\n      <td>NaN</td>\n      <td>NaN</td>\n      <td>NaN</td>\n      <td>NaN</td>\n      <td>NaN</td>\n      <td>NaN</td>\n    </tr>\n    <tr>\n      <th>13</th>\n      <td>NaN</td>\n      <td>13</td>\n      <td>пресс-подборщик(рулонник) ПР-150</td>\n      <td>1</td>\n      <td>660000</td>\n      <td>660000</td>\n      <td>техника</td>\n      <td>ПР-150 Новосибирск</td>\n      <td>АгроТехКомплект</td>\n      <td>NaN</td>\n      <td>NaN</td>\n      <td>NaN</td>\n      <td>NaN</td>\n      <td>NaN</td>\n    </tr>\n    <tr>\n      <th>14</th>\n      <td>NaN</td>\n      <td>14</td>\n      <td>трактор МТЗ</td>\n      <td>1</td>\n      <td>2642000</td>\n      <td>2642000</td>\n      <td>техника</td>\n      <td>МТЗ 82.1 с усиленными мостами</td>\n      <td>Техника АПК</td>\n      <td>NaN</td>\n      <td>NaN</td>\n      <td>NaN</td>\n      <td>NaN</td>\n      <td>NaN</td>\n    </tr>\n    <tr>\n      <th>15</th>\n      <td>NaN</td>\n      <td>15</td>\n      <td>кормораздатчик</td>\n      <td>1</td>\n      <td>819000</td>\n      <td>819000</td>\n      <td>техника</td>\n      <td>кормораздатчик тракторный КТ-10-01</td>\n      <td>АгроТехКомплект</td>\n      <td>NaN</td>\n      <td>NaN</td>\n      <td>NaN</td>\n      <td>NaN</td>\n      <td>NaN</td>\n    </tr>\n    <tr>\n      <th>16</th>\n      <td>NaN</td>\n      <td>16</td>\n      <td>борона пружинная</td>\n      <td>1</td>\n      <td>3050000</td>\n      <td>3050000</td>\n      <td>техника</td>\n      <td>БЗГТ-21 «ПОБЕДА» Зуб 14мм</td>\n      <td>Техника АПК</td>\n      <td>NaN</td>\n      <td>NaN</td>\n      <td>NaN</td>\n      <td>NaN</td>\n      <td>NaN</td>\n    </tr>\n    <tr>\n      <th>17</th>\n      <td>NaN</td>\n      <td>17</td>\n      <td>вилы (для трактор МТЗ)</td>\n      <td>1</td>\n      <td>75000</td>\n      <td>75000</td>\n      <td>техника</td>\n      <td>универсальные с регулируемой пикой</td>\n      <td>Техника АПК</td>\n      <td>NaN</td>\n      <td>NaN</td>\n      <td>NaN</td>\n      <td>NaN</td>\n      <td>NaN</td>\n    </tr>\n    <tr>\n      <th>18</th>\n      <td>NaN</td>\n      <td>18</td>\n      <td>погрузчик «Универсал Standart»</td>\n      <td>1</td>\n      <td>290000</td>\n      <td>290000</td>\n      <td>техника</td>\n      <td>(БРС) г/п 1200 кг (Большая Земля)</td>\n      <td>Техника АПК</td>\n      <td>NaN</td>\n      <td>NaN</td>\n      <td>NaN</td>\n      <td>NaN</td>\n      <td>NaN</td>\n    </tr>\n    <tr>\n      <th>19</th>\n      <td>NaN</td>\n      <td>18</td>\n      <td>сеялка зерновая</td>\n      <td>1</td>\n      <td>6515400</td>\n      <td>6515400</td>\n      <td>техника</td>\n      <td>СПС-6500</td>\n      <td>Техника АПК</td>\n      <td>NaN</td>\n      <td>NaN</td>\n      <td>NaN</td>\n      <td>NaN</td>\n      <td>NaN</td>\n    </tr>\n    <tr>\n      <th>20</th>\n      <td>NaN</td>\n      <td>19</td>\n      <td>Manitoo_погрузчик</td>\n      <td>0</td>\n      <td>9600000</td>\n      <td>0</td>\n      <td>техника</td>\n      <td>NaN</td>\n      <td>NaN</td>\n      <td>NaN</td>\n      <td>NaN</td>\n      <td>NaN</td>\n      <td>NaN</td>\n      <td>NaN</td>\n    </tr>\n    <tr>\n      <th>21</th>\n      <td>NaN</td>\n      <td>Итог</td>\n      <td>NaN</td>\n      <td>NaN</td>\n      <td>NaN</td>\n      <td>22701400</td>\n      <td>NaN</td>\n      <td>NaN</td>\n      <td>NaN</td>\n      <td>NaN</td>\n      <td>NaN</td>\n      <td>NaN</td>\n      <td>NaN</td>\n      <td>NaN</td>\n    </tr>\n  </tbody>\n</table>\n</div>"
     },
     "execution_count": 15,
     "metadata": {},
     "output_type": "execute_result"
    }
   ],
   "source": [
    "df"
   ],
   "metadata": {
    "collapsed": false
   }
  },
  {
   "cell_type": "markdown",
   "source": [
    "Создал и записал файл excel"
   ],
   "metadata": {
    "collapsed": false
   }
  },
  {
   "cell_type": "code",
   "execution_count": 18,
   "outputs": [],
   "source": [
    "df.to_excel('./primer.xlsx')"
   ],
   "metadata": {
    "collapsed": false
   }
  },
  {
   "cell_type": "markdown",
   "source": [
    "получаем информацию о датафрейм"
   ],
   "metadata": {
    "collapsed": false
   }
  },
  {
   "cell_type": "code",
   "execution_count": 19,
   "outputs": [
    {
     "name": "stdout",
     "output_type": "stream",
     "text": [
      "<class 'pandas.core.frame.DataFrame'>\n",
      "RangeIndex: 22 entries, 0 to 21\n",
      "Data columns (total 14 columns):\n",
      " #   Column       Non-Null Count  Dtype  \n",
      "---  ------       --------------  -----  \n",
      " 0   Unnamed: 0   0 non-null      float64\n",
      " 1   Unnamed: 1   22 non-null     object \n",
      " 2   Unnamed: 2   21 non-null     object \n",
      " 3   Unnamed: 3   21 non-null     object \n",
      " 4   Unnamed: 4   15 non-null     object \n",
      " 5   Unnamed: 5   22 non-null     object \n",
      " 6   Unnamed: 6   21 non-null     object \n",
      " 7   Unnamed: 7   13 non-null     object \n",
      " 8   Unnamed: 8   8 non-null      object \n",
      " 9   Unnamed: 9   0 non-null      float64\n",
      " 10  Unnamed: 10  3 non-null      object \n",
      " 11  доступно     3 non-null      float64\n",
      " 12  расход       3 non-null      float64\n",
      " 13  остаток      3 non-null      float64\n",
      "dtypes: float64(5), object(9)\n",
      "memory usage: 2.5+ KB\n"
     ]
    }
   ],
   "source": [
    "df.info()"
   ],
   "metadata": {
    "collapsed": false
   }
  },
  {
   "cell_type": "code",
   "execution_count": 20,
   "outputs": [
    {
     "data": {
      "text/plain": "   Unnamed: 0 Unnamed: 1    Unnamed: 2 Unnamed: 3 Unnamed: 4  Unnamed: 5  \\\n0         NaN          №  наименования      ко-во   цена,руб  сумма,руб:   \n1         NaN          1     овцы ярки        450      12000     5400000   \n2         NaN          2   овцы бараны         50      27000     1350000   \n\n  Unnamed: 6 Unnamed: 7 Unnamed: 8  Unnamed: 9         Unnamed: 10  \\\n0  категория   описание  Поставщик         NaN       ∑ гранта(60%)   \n1   животные        NaN        NaN         NaN  ∑ собственные(40%)   \n2   животные        NaN        NaN         NaN       ∑ общая(100%)   \n\n       доступно      расход       остаток  \n0  2.973200e+07  13620840.0  1.611116e+07  \n1  1.982133e+07   9080560.0  1.074077e+07  \n2  4.955333e+07  22701400.0  2.685193e+07  ",
      "text/html": "<div>\n<style scoped>\n    .dataframe tbody tr th:only-of-type {\n        vertical-align: middle;\n    }\n\n    .dataframe tbody tr th {\n        vertical-align: top;\n    }\n\n    .dataframe thead th {\n        text-align: right;\n    }\n</style>\n<table border=\"1\" class=\"dataframe\">\n  <thead>\n    <tr style=\"text-align: right;\">\n      <th></th>\n      <th>Unnamed: 0</th>\n      <th>Unnamed: 1</th>\n      <th>Unnamed: 2</th>\n      <th>Unnamed: 3</th>\n      <th>Unnamed: 4</th>\n      <th>Unnamed: 5</th>\n      <th>Unnamed: 6</th>\n      <th>Unnamed: 7</th>\n      <th>Unnamed: 8</th>\n      <th>Unnamed: 9</th>\n      <th>Unnamed: 10</th>\n      <th>доступно</th>\n      <th>расход</th>\n      <th>остаток</th>\n    </tr>\n  </thead>\n  <tbody>\n    <tr>\n      <th>0</th>\n      <td>NaN</td>\n      <td>№</td>\n      <td>наименования</td>\n      <td>ко-во</td>\n      <td>цена,руб</td>\n      <td>сумма,руб:</td>\n      <td>категория</td>\n      <td>описание</td>\n      <td>Поставщик</td>\n      <td>NaN</td>\n      <td>∑ гранта(60%)</td>\n      <td>2.973200e+07</td>\n      <td>13620840.0</td>\n      <td>1.611116e+07</td>\n    </tr>\n    <tr>\n      <th>1</th>\n      <td>NaN</td>\n      <td>1</td>\n      <td>овцы ярки</td>\n      <td>450</td>\n      <td>12000</td>\n      <td>5400000</td>\n      <td>животные</td>\n      <td>NaN</td>\n      <td>NaN</td>\n      <td>NaN</td>\n      <td>∑ собственные(40%)</td>\n      <td>1.982133e+07</td>\n      <td>9080560.0</td>\n      <td>1.074077e+07</td>\n    </tr>\n    <tr>\n      <th>2</th>\n      <td>NaN</td>\n      <td>2</td>\n      <td>овцы бараны</td>\n      <td>50</td>\n      <td>27000</td>\n      <td>1350000</td>\n      <td>животные</td>\n      <td>NaN</td>\n      <td>NaN</td>\n      <td>NaN</td>\n      <td>∑ общая(100%)</td>\n      <td>4.955333e+07</td>\n      <td>22701400.0</td>\n      <td>2.685193e+07</td>\n    </tr>\n  </tbody>\n</table>\n</div>"
     },
     "execution_count": 20,
     "metadata": {},
     "output_type": "execute_result"
    }
   ],
   "source": [
    "df.head(3)"
   ],
   "metadata": {
    "collapsed": false
   }
  },
  {
   "cell_type": "code",
   "execution_count": 21,
   "outputs": [
    {
     "data": {
      "text/plain": "    Unnamed: 0 Unnamed: 1         Unnamed: 2 Unnamed: 3 Unnamed: 4 Unnamed: 5  \\\n19         NaN         18    сеялка зерновая          1    6515400    6515400   \n20         NaN         19  Manitoo_погрузчик          0    9600000          0   \n21         NaN       Итог                NaN        NaN        NaN   22701400   \n\n   Unnamed: 6 Unnamed: 7   Unnamed: 8  Unnamed: 9 Unnamed: 10  доступно  \\\n19    техника   СПС-6500  Техника АПК         NaN         NaN       NaN   \n20    техника        NaN          NaN         NaN         NaN       NaN   \n21        NaN        NaN          NaN         NaN         NaN       NaN   \n\n    расход  остаток  \n19     NaN      NaN  \n20     NaN      NaN  \n21     NaN      NaN  ",
      "text/html": "<div>\n<style scoped>\n    .dataframe tbody tr th:only-of-type {\n        vertical-align: middle;\n    }\n\n    .dataframe tbody tr th {\n        vertical-align: top;\n    }\n\n    .dataframe thead th {\n        text-align: right;\n    }\n</style>\n<table border=\"1\" class=\"dataframe\">\n  <thead>\n    <tr style=\"text-align: right;\">\n      <th></th>\n      <th>Unnamed: 0</th>\n      <th>Unnamed: 1</th>\n      <th>Unnamed: 2</th>\n      <th>Unnamed: 3</th>\n      <th>Unnamed: 4</th>\n      <th>Unnamed: 5</th>\n      <th>Unnamed: 6</th>\n      <th>Unnamed: 7</th>\n      <th>Unnamed: 8</th>\n      <th>Unnamed: 9</th>\n      <th>Unnamed: 10</th>\n      <th>доступно</th>\n      <th>расход</th>\n      <th>остаток</th>\n    </tr>\n  </thead>\n  <tbody>\n    <tr>\n      <th>19</th>\n      <td>NaN</td>\n      <td>18</td>\n      <td>сеялка зерновая</td>\n      <td>1</td>\n      <td>6515400</td>\n      <td>6515400</td>\n      <td>техника</td>\n      <td>СПС-6500</td>\n      <td>Техника АПК</td>\n      <td>NaN</td>\n      <td>NaN</td>\n      <td>NaN</td>\n      <td>NaN</td>\n      <td>NaN</td>\n    </tr>\n    <tr>\n      <th>20</th>\n      <td>NaN</td>\n      <td>19</td>\n      <td>Manitoo_погрузчик</td>\n      <td>0</td>\n      <td>9600000</td>\n      <td>0</td>\n      <td>техника</td>\n      <td>NaN</td>\n      <td>NaN</td>\n      <td>NaN</td>\n      <td>NaN</td>\n      <td>NaN</td>\n      <td>NaN</td>\n      <td>NaN</td>\n    </tr>\n    <tr>\n      <th>21</th>\n      <td>NaN</td>\n      <td>Итог</td>\n      <td>NaN</td>\n      <td>NaN</td>\n      <td>NaN</td>\n      <td>22701400</td>\n      <td>NaN</td>\n      <td>NaN</td>\n      <td>NaN</td>\n      <td>NaN</td>\n      <td>NaN</td>\n      <td>NaN</td>\n      <td>NaN</td>\n      <td>NaN</td>\n    </tr>\n  </tbody>\n</table>\n</div>"
     },
     "execution_count": 21,
     "metadata": {},
     "output_type": "execute_result"
    }
   ],
   "source": [
    "df.tail(3)"
   ],
   "metadata": {
    "collapsed": false
   }
  },
  {
   "cell_type": "code",
   "execution_count": 22,
   "outputs": [
    {
     "data": {
      "text/plain": "Unnamed: 0     float64\nUnnamed: 1      object\nUnnamed: 2      object\nUnnamed: 3      object\nUnnamed: 4      object\nUnnamed: 5      object\nUnnamed: 6      object\nUnnamed: 7      object\nUnnamed: 8      object\nUnnamed: 9     float64\nUnnamed: 10     object\nдоступно       float64\nрасход         float64\nостаток        float64\ndtype: object"
     },
     "execution_count": 22,
     "metadata": {},
     "output_type": "execute_result"
    }
   ],
   "source": [
    "df.dtypes"
   ],
   "metadata": {
    "collapsed": false
   }
  },
  {
   "cell_type": "code",
   "execution_count": 26,
   "outputs": [
    {
     "data": {
      "text/plain": "0     1.611116e+07\n1     1.074077e+07\n2     2.685193e+07\n3              NaN\n4              NaN\n5              NaN\n6              NaN\n7              NaN\n8              NaN\n9              NaN\n10             NaN\n11             NaN\n12             NaN\n13             NaN\n14             NaN\n15             NaN\n16             NaN\n17             NaN\n18             NaN\n19             NaN\n20             NaN\n21             NaN\nName: остаток, dtype: float64"
     },
     "execution_count": 26,
     "metadata": {},
     "output_type": "execute_result"
    }
   ],
   "source": [
    "df['остаток']"
   ],
   "metadata": {
    "collapsed": false
   }
  },
  {
   "cell_type": "code",
   "execution_count": 27,
   "outputs": [
    {
     "data": {
      "text/plain": "       доступно       остаток\n0  2.973200e+07  1.611116e+07\n1  1.982133e+07  1.074077e+07\n2  4.955333e+07  2.685193e+07",
      "text/html": "<div>\n<style scoped>\n    .dataframe tbody tr th:only-of-type {\n        vertical-align: middle;\n    }\n\n    .dataframe tbody tr th {\n        vertical-align: top;\n    }\n\n    .dataframe thead th {\n        text-align: right;\n    }\n</style>\n<table border=\"1\" class=\"dataframe\">\n  <thead>\n    <tr style=\"text-align: right;\">\n      <th></th>\n      <th>доступно</th>\n      <th>остаток</th>\n    </tr>\n  </thead>\n  <tbody>\n    <tr>\n      <th>0</th>\n      <td>2.973200e+07</td>\n      <td>1.611116e+07</td>\n    </tr>\n    <tr>\n      <th>1</th>\n      <td>1.982133e+07</td>\n      <td>1.074077e+07</td>\n    </tr>\n    <tr>\n      <th>2</th>\n      <td>4.955333e+07</td>\n      <td>2.685193e+07</td>\n    </tr>\n  </tbody>\n</table>\n</div>"
     },
     "execution_count": 27,
     "metadata": {},
     "output_type": "execute_result"
    }
   ],
   "source": [
    "df[['доступно', 'остаток']].head(3)"
   ],
   "metadata": {
    "collapsed": false
   }
  },
  {
   "cell_type": "code",
   "execution_count": null,
   "outputs": [],
   "source": [],
   "metadata": {
    "collapsed": false
   }
  }
 ],
 "metadata": {
  "kernelspec": {
   "display_name": "Python 3",
   "language": "python",
   "name": "python3"
  },
  "language_info": {
   "codemirror_mode": {
    "name": "ipython",
    "version": 2
   },
   "file_extension": ".py",
   "mimetype": "text/x-python",
   "name": "python",
   "nbconvert_exporter": "python",
   "pygments_lexer": "ipython2",
   "version": "2.7.6"
  }
 },
 "nbformat": 4,
 "nbformat_minor": 0
}
